{
 "cells": [
  {
   "cell_type": "code",
   "execution_count": null,
   "id": "d127561c",
   "metadata": {},
   "outputs": [],
   "source": [
    "QUESTÃO 1"
   ]
  },
  {
   "cell_type": "code",
   "execution_count": 7,
   "id": "b2a7b14b",
   "metadata": {},
   "outputs": [
    {
     "name": "stdout",
     "output_type": "stream",
     "text": [
      "Digite 3 números:\n",
      "1\n",
      "2\n",
      "3\n",
      "A soma desses números é: 6\n"
     ]
    }
   ],
   "source": [
    "print('Digite 3 números:')\n",
    "\n",
    "str_1 = input()\n",
    "str_2 = input()\n",
    "str_3 = input()\n",
    "\n",
    "num_1 = int(str_1)\n",
    "num_2 = int(str_2)\n",
    "num_3 = int(str_3)\n",
    "\n",
    "soma = num_1 + num_2 + num_3\n",
    "\n",
    "print('A soma desses números é:', soma)\n"
   ]
  },
  {
   "cell_type": "code",
   "execution_count": null,
   "id": "2a9bb74d",
   "metadata": {},
   "outputs": [],
   "source": [
    "QUESTÃO 2"
   ]
  },
  {
   "cell_type": "code",
   "execution_count": 8,
   "id": "d2f7db13",
   "metadata": {},
   "outputs": [
    {
     "name": "stdout",
     "output_type": "stream",
     "text": [
      "Digite 5 números:\n",
      "1\n",
      "2\n",
      "3\n",
      "4\n",
      "5\n",
      "A média desses números é: 3.0\n"
     ]
    }
   ],
   "source": [
    "print('Digite 5 números:')\n",
    "\n",
    "str_1 = input()\n",
    "str_2 = input()\n",
    "str_3 = input()\n",
    "str_4 = input()\n",
    "str_5 = input()\n",
    "\n",
    "num_1 = int(str_1)\n",
    "num_2 = int(str_2)\n",
    "num_3 = int(str_3)\n",
    "num_4 = int(str_4)\n",
    "num_5 = int(str_5)\n",
    "\n",
    "media = (num_1 + num_2 + num_3 + num_4 + num_5)/5\n",
    "\n",
    "print('A média desses números é:', media)"
   ]
  },
  {
   "cell_type": "code",
   "execution_count": null,
   "id": "d4569615",
   "metadata": {},
   "outputs": [],
   "source": [
    "QUESTÃO 3"
   ]
  },
  {
   "cell_type": "code",
   "execution_count": 10,
   "id": "98fc3094",
   "metadata": {},
   "outputs": [
    {
     "name": "stdout",
     "output_type": "stream",
     "text": [
      "Digite 4 números:\n",
      "1\n",
      "2\n",
      "3\n",
      "4\n",
      "A média ponderada desses números é: 3.0\n"
     ]
    }
   ],
   "source": [
    "print('Digite 4 números:')\n",
    "\n",
    "str_1 = input()\n",
    "str_2 = input()\n",
    "str_3 = input()\n",
    "str_4 = input()\n",
    "\n",
    "num_1 = int(str_1)\n",
    "num_2 = int(str_2)\n",
    "num_3 = int(str_3)\n",
    "num_4 = int(str_4)\n",
    "\n",
    "media_ponderada = (num_1 + (num_2 * 2) + (num_3 * 3) + (num_4 * 4))/10\n",
    "\n",
    "print('A média ponderada desses números é:', media_ponderada)"
   ]
  },
  {
   "cell_type": "code",
   "execution_count": null,
   "id": "36d8e808",
   "metadata": {},
   "outputs": [],
   "source": [
    "QUESTÃO 4"
   ]
  },
  {
   "cell_type": "code",
   "execution_count": 14,
   "id": "eca361e1",
   "metadata": {},
   "outputs": [
    {
     "name": "stdout",
     "output_type": "stream",
     "text": [
      "Digite 2 números:\n",
      "1\n",
      "1\n",
      "Os dois números são iguais\n"
     ]
    }
   ],
   "source": [
    "print('Digite 2 números:')\n",
    "\n",
    "str_1 = input()\n",
    "str_2 = input()\n",
    "\n",
    "num_1 = int(str_1)\n",
    "num_2 = int(str_2)\n",
    "\n",
    "if num_1 > num_2:\n",
    "    print('O primeiro é o maior')\n",
    "\n",
    "elif num_2 > num_1:\n",
    "    print('O segundo é o maior')\n",
    "\n",
    "else:\n",
    "    print('Os dois números são iguais')"
   ]
  },
  {
   "cell_type": "code",
   "execution_count": null,
   "id": "ea6829d9",
   "metadata": {},
   "outputs": [],
   "source": [
    "QUESTÃO 5"
   ]
  },
  {
   "cell_type": "code",
   "execution_count": 16,
   "id": "3eb929f4",
   "metadata": {},
   "outputs": [
    {
     "name": "stdout",
     "output_type": "stream",
     "text": [
      "Digite a Base e a Altura do triângulo, respectivamente:\n",
      "15\n",
      "26\n",
      "A área do triângulo é: 195.0\n"
     ]
    }
   ],
   "source": [
    "print('Digite a Base e a Altura do triângulo, respectivamente:')\n",
    "\n",
    "str_1 = input()\n",
    "str_2 = input()\n",
    "\n",
    "base = int(str_1)\n",
    "alt = int(str_2)\n",
    "\n",
    "area = (base * alt)/2\n",
    "\n",
    "print('A área do triângulo é:', area)\n"
   ]
  },
  {
   "cell_type": "code",
   "execution_count": null,
   "id": "4e781335",
   "metadata": {},
   "outputs": [],
   "source": [
    "QUESTÃO 6"
   ]
  },
  {
   "cell_type": "code",
   "execution_count": 20,
   "id": "1392fbde",
   "metadata": {},
   "outputs": [
    {
     "name": "stdout",
     "output_type": "stream",
     "text": [
      "Digite o nome do automóvel e o seu valor de fábrica, respectivamente:\n",
      "Celta\n",
      "15000\n",
      "O valor final do carro Celta é 23700.0\n"
     ]
    }
   ],
   "source": [
    "print('Digite o nome do automóvel e o seu valor de fábrica, respectivamente:')\n",
    "\n",
    "nome_automovel = input()\n",
    "str_1 = input()\n",
    "\n",
    "preco_de_fab = int(str_1)\n",
    "\n",
    "preco_final = preco_de_fab * 1.58\n",
    "\n",
    "print('O valor final do carro', nome_automovel,'é',preco_final)"
   ]
  },
  {
   "cell_type": "code",
   "execution_count": null,
   "id": "76247455",
   "metadata": {},
   "outputs": [],
   "source": [
    "QUESTÃO 7"
   ]
  },
  {
   "cell_type": "code",
   "execution_count": null,
   "id": "bf930716",
   "metadata": {},
   "outputs": [
    {
     "name": "stdout",
     "output_type": "stream",
     "text": [
      "Digite o intervalo de até 15 numeros que devem ser calculados, do menor para o maior: \n"
     ]
    }
   ],
   "source": [
    "print('Digite o intervalo de até 15 numeros que devem ser calculados, do menor para o maior: ')\n",
    "\n",
    "str_x = input()\n",
    "str_y = input()\n",
    "\n",
    "x = int(str_x)\n",
    "y = int(str_y)\n",
    "\n",
    "if y - x != 15:\n",
    "    print('Por favor, digite valores válidos')\n",
    "\n",
    "soma = 0\n",
    "\n",
    "cont = 0\n",
    "\n",
    "lista = list(range(x,y))\n",
    "\n",
    "for i in lista:\n",
    "    print(i)\n",
    "    soma += i\n",
    "    cont += 1\n",
    "    \n",
    "media = soma/cont\n",
    "\n",
    "print('A media desses valores é:', media)"
   ]
  },
  {
   "cell_type": "code",
   "execution_count": null,
   "id": "02907b0e-84c2-417c-8402-09892a640483",
   "metadata": {},
   "outputs": [],
   "source": [
    "QUESTÃO 8"
   ]
  },
  {
   "cell_type": "code",
   "execution_count": null,
   "id": "f48d1056-ced2-44d9-ba91-ec0b5c16f007",
   "metadata": {},
   "outputs": [],
   "source": [
    "print('Digite 3 valores:')\n",
    "\n",
    "str_1 = input()\n",
    "str_2 = input()\n",
    "str_3 = input()\n",
    "\n",
    "num_1 = int(str_1)\n",
    "num_2 = int(str_2)\n",
    "num_3 = int(str_3)\n",
    "\n",
    "if (num_1 > num_2) and (num_1 > num_3):\n",
    "    print('O primeiro é o maior')\n",
    "\n",
    "elif (num_1 == num_2) and (num_1 > num_3):\n",
    "    print('O primeiro e o segundo são os maiores')\n",
    "    \n",
    "elif (num_1 > num_2) and (num_1 == num_3):\n",
    "    print('O primeiro e o terceiro são os maiores')\n",
    "    \n",
    "elif (num_2 > num_1) and (num_2 > num_3):\n",
    "    print('O segundo é o maior')\n",
    "    \n",
    "elif (num_2 > num_1) and (num_2 == num_3):\n",
    "    print('O segundo e o terceiro são os maiores')\n",
    "\n",
    "elif (num_3 > num_1) and (num_3 > num_2):\n",
    "    print('O terceiro é o maior')\n",
    "    \n",
    "else:\n",
    "    print('Os três números são iguais')"
   ]
  },
  {
   "cell_type": "code",
   "execution_count": null,
   "id": "64a8385a-641b-4212-a2e1-cba88bcc8aae",
   "metadata": {},
   "outputs": [],
   "source": [
    "QUESTÃO 9"
   ]
  },
  {
   "cell_type": "code",
   "execution_count": null,
   "id": "ecc2881f-a201-4505-816f-794449064f0f",
   "metadata": {},
   "outputs": [],
   "source": [
    "print('Digite o valor da temperatura em Celsius:')\n",
    "\n",
    "str_1 = input()\n",
    "\n",
    "celsius = int(str_1)\n",
    "\n",
    "fahrenheit = (celsius * 9/5) + 32 \n",
    "\n",
    "print('A temperatura informada em fahrenheit é', fahrenheit)"
   ]
  },
  {
   "cell_type": "code",
   "execution_count": null,
   "id": "63d13386-ff44-4c80-9a76-7d3df1a086dc",
   "metadata": {},
   "outputs": [],
   "source": [
    "QUESTÃO 10"
   ]
  },
  {
   "cell_type": "code",
   "execution_count": null,
   "id": "7628f083-af11-4b7b-9748-9daeb8793d5a",
   "metadata": {},
   "outputs": [],
   "source": [
    "lista_100_ate_200 = list(range(100, 201))"
   ]
  },
  {
   "cell_type": "code",
   "execution_count": null,
   "id": "a65a6efa-09fa-46d7-ac73-487feb948951",
   "metadata": {},
   "outputs": [],
   "source": [
    "cont = 0\n",
    "\n",
    "for x in lista_100_ate_200:\n",
    "    if x%2 == 0:\n",
    "        cont += 1\n",
    "        \n",
    "print('Existem',cont,'pares entre 100 e 200')"
   ]
  },
  {
   "cell_type": "code",
   "execution_count": null,
   "id": "e243d01d-20fc-458e-aff7-fdf8839b5ea7",
   "metadata": {},
   "outputs": [],
   "source": [
    "QUESTÃO 11 "
   ]
  },
  {
   "cell_type": "code",
   "execution_count": null,
   "id": "86288be4-c938-4eb3-ba95-6a6c6e6f894c",
   "metadata": {},
   "outputs": [],
   "source": [
    "print('Digite os valores limite, primeiro o menor depois o maior:')\n",
    "\n",
    "str_x = input()\n",
    "str_y = input()\n",
    "\n",
    "x = int(str_x)\n",
    "y = int(str_y)\n",
    "\n",
    "lista_x_ate_y = 0\n",
    "\n",
    "if y > x:\n",
    "    lista_x_ate_y = list(range(x, y))\n",
    "    \n",
    "else:\n",
    "    print('Por favor, digite valores válidos')"
   ]
  },
  {
   "cell_type": "code",
   "execution_count": null,
   "id": "6f5f8e21-38db-40f1-a680-51bfe27717a4",
   "metadata": {},
   "outputs": [],
   "source": [
    "cont = 0\n",
    "\n",
    "for i in lista_x_ate_y:\n",
    "    if i%2 == 0:\n",
    "        cont += 1\n",
    "        \n",
    "print('Existem',cont,'pares entre',x, 'e', y)"
   ]
  },
  {
   "cell_type": "code",
   "execution_count": null,
   "id": "cad7fbed-35e2-4b34-a11e-f4e6a96a583c",
   "metadata": {},
   "outputs": [],
   "source": [
    "QUESTÃO 12"
   ]
  },
  {
   "cell_type": "code",
   "execution_count": null,
   "id": "2c17870f-394d-4985-b0f2-575352c446b4",
   "metadata": {},
   "outputs": [],
   "source": [
    "print('Digite os valores limite, primeiro o menor depois o maior:')\n",
    "\n",
    "str_x = input()\n",
    "str_y = input()\n",
    "\n",
    "x = int(str_x)\n",
    "y = int(str_y)\n",
    "\n",
    "lista_x_ate_y = 0\n",
    "\n",
    "if y > x:\n",
    "    lista_x_ate_y = list(range(x, y))\n",
    "    \n",
    "else:\n",
    "    print('Por favor, digite valores válidos')"
   ]
  },
  {
   "cell_type": "code",
   "execution_count": null,
   "id": "d91a19c5-d691-498e-90b1-da40b3ec9a33",
   "metadata": {},
   "outputs": [],
   "source": [
    "soma = 0\n",
    "\n",
    "for i in lista_x_ate_y:\n",
    "    if i%2 == 0:\n",
    "        soma += i\n",
    "        \n",
    "print('A soma entre os pares de', x , 'ate', y ,'é', soma)"
   ]
  },
  {
   "cell_type": "code",
   "execution_count": null,
   "id": "d170a940-f6da-493b-881e-901d8ede2583",
   "metadata": {},
   "outputs": [],
   "source": [
    "QUESTÃO 13"
   ]
  },
  {
   "cell_type": "code",
   "execution_count": null,
   "id": "c267f3e4-0f3b-4f81-9ca5-e6d408731665",
   "metadata": {},
   "outputs": [],
   "source": [
    "print('Digite o valor que deve ser calculado o fatorial:')\n",
    "\n",
    "str_f = input()\n",
    "\n",
    "base_fatorial = int(str_f) + 1\n",
    "\n",
    "lista_fatorial = list(range(1, base_fatorial))"
   ]
  },
  {
   "cell_type": "code",
   "execution_count": null,
   "id": "8d5a3c60-bac3-4875-8014-df690866f5d7",
   "metadata": {},
   "outputs": [],
   "source": [
    "fatorial = 1\n",
    "\n",
    "for i in lista_fatorial:\n",
    "    fatorial = fatorial * i\n",
    "    \n",
    "print('O valor do fatorial de',base_fatorial,'é',fatorial)"
   ]
  },
  {
   "cell_type": "code",
   "execution_count": null,
   "id": "91872d04-adfb-490e-b4e9-682dcc4813e9",
   "metadata": {},
   "outputs": [],
   "source": []
  }
 ],
 "metadata": {
  "kernelspec": {
   "display_name": "Python 3 (ipykernel)",
   "language": "python",
   "name": "python3"
  },
  "language_info": {
   "codemirror_mode": {
    "name": "ipython",
    "version": 3
   },
   "file_extension": ".py",
   "mimetype": "text/x-python",
   "name": "python",
   "nbconvert_exporter": "python",
   "pygments_lexer": "ipython3",
   "version": "3.9.13"
  }
 },
 "nbformat": 4,
 "nbformat_minor": 5
}
